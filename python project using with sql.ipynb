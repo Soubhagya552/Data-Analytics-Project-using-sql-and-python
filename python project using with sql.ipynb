{
 "cells": [
  {
   "cell_type": "code",
   "execution_count": null,
   "id": "3afcba5b",
   "metadata": {},
   "outputs": [],
   "source": [
    "#!/usr/bin/env python\n",
    "# coding: utf-8\n",
    "\n",
    "# In[76]:\n",
    "\n",
    "\n",
    "#import libraries\n",
    "#!pip install kaggle\n",
    "import kaggle\n",
    "\n",
    "!kaggle datasets download ankitbansal06/retail-orders -f orders.csv\n",
    "\n",
    "\n",
    "# In[77]:\n",
    "\n",
    "\n"
   ]
  },
  {
   "cell_type": "code",
   "execution_count": null,
   "id": "c38266ce",
   "metadata": {},
   "outputs": [],
   "source": [
    "#extract file from zip file\n",
    "import zipfile\n",
    "zip_ref = zipfile.ZipFile('orders.csv.zip') \n",
    "zip_ref.extractall() # extract file to dir\n",
    "zip_ref.close() # close file\n",
    "\n",
    "\n",
    "# In[145]:\n",
    "\n",
    "\n",
    "#read data from the file and handle null values\n",
    "import pandas as pd\n",
    "df = pd.read_csv('orders.csv',na_values=['Not Available','unknown'])\n",
    "df['Ship Mode'].unique()\n",
    "\n",
    "\n"
   ]
  },
  {
   "cell_type": "code",
   "execution_count": null,
   "id": "cdb0f673",
   "metadata": {},
   "outputs": [],
   "source": [
    "# In[154]:\n",
    "\n",
    "\n",
    "#rename columns names ..make them lower case and replace space with underscore\n",
    "#df.rename(columns={'Order Id':'order_id', 'City':'city'})\n",
    "#df.columns=df.columns.str.lower()\n",
    "#df.columns=df.columns.str.replace(' ','_')\n",
    "df.head(5)\n",
    "\n",
    "\n",
    "# In[159]:\n",
    "\n",
    "\n",
    "#derive new columns discount , sale price and profit\n",
    "#df['discount']=df['list_price']*df['discount_percent']*.01\n",
    "#df['sale_price']= df['list_price']-df['discount']\n",
    "df['profit']=df['sale_price']-df['cost_price']\n",
    "df\n",
    "\n",
    "\n"
   ]
  },
  {
   "cell_type": "code",
   "execution_count": null,
   "id": "936b9d64",
   "metadata": {},
   "outputs": [],
   "source": [
    "# In[162]:\n",
    "\n",
    "\n",
    "#convert order date from object data type to datetime\n",
    "df['order_date']=pd.to_datetime(df['order_date'],format=\"%Y-%m-%d\")\n",
    "\n",
    "\n"
   ]
  },
  {
   "cell_type": "code",
   "execution_count": null,
   "id": "c5691b5a",
   "metadata": {},
   "outputs": [],
   "source": [
    "# In[167]:\n",
    "\n",
    "\n",
    "#drop cost price list price and discount percent columns\n",
    "df.drop(columns=['list_price','cost_price','discount_percent'],inplace=True)\n",
    "\n",
    "\n"
   ]
  },
  {
   "cell_type": "code",
   "execution_count": null,
   "id": "3d795be6",
   "metadata": {},
   "outputs": [],
   "source": [
    "# In[169]:\n",
    "\n",
    "\n",
    "#load the data into sql server using replace option\n",
    "import sqlalchemy as sal\n",
    "engine = sal.create_engine('mssql://ANKIT\\SQLEXPRESS/master?driver=ODBC+DRIVER+17+FOR+SQL+SERVER')\n",
    "conn=engine.connect()\n",
    "\n",
    "\n"
   ]
  },
  {
   "cell_type": "code",
   "execution_count": null,
   "id": "ead96322",
   "metadata": {},
   "outputs": [],
   "source": [
    "# In[172]:\n",
    "\n",
    "\n",
    "#load the data into sql server using append option\n",
    "df.to_sql('df_orders', con=conn , index=False, if_exists = 'append')"
   ]
  },
  {
   "cell_type": "code",
   "execution_count": null,
   "id": "689678ac",
   "metadata": {},
   "outputs": [],
   "source": []
  },
  {
   "cell_type": "code",
   "execution_count": null,
   "id": "1eb2bbe1",
   "metadata": {},
   "outputs": [],
   "source": []
  }
 ],
 "metadata": {
  "kernelspec": {
   "display_name": "Python 3 (ipykernel)",
   "language": "python",
   "name": "python3"
  },
  "language_info": {
   "codemirror_mode": {
    "name": "ipython",
    "version": 3
   },
   "file_extension": ".py",
   "mimetype": "text/x-python",
   "name": "python",
   "nbconvert_exporter": "python",
   "pygments_lexer": "ipython3",
   "version": "3.11.4"
  }
 },
 "nbformat": 4,
 "nbformat_minor": 5
}
